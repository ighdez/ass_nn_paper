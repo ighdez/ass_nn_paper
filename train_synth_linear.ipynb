{
 "cells": [
  {
   "cell_type": "code",
   "execution_count": 1,
   "metadata": {},
   "outputs": [],
   "source": [
    "# Load modules\n",
    "import os\n",
    "os.environ['TF_CPP_MIN_LOG_LEVEL'] = '3' \n",
    "\n",
    "import numpy as np\n",
    "import pandas as pd\n",
    "import pickle\n",
    "\n",
    "from train_ann_functions import AsuSharedNN, ll, normaliser_shared"
   ]
  },
  {
   "cell_type": "code",
   "execution_count": 2,
   "metadata": {},
   "outputs": [],
   "source": [
    "# Load data\n",
    "data_train = pd.read_csv('data/data_rum_1_train.csv')\n",
    "data_test = pd.read_csv('data/data_rum_1_test.csv')"
   ]
  },
  {
   "cell_type": "code",
   "execution_count": 3,
   "metadata": {},
   "outputs": [],
   "source": [
    "# Set scalars\n",
    "J = 3\n",
    "K = 2\n",
    "\n",
    "# Set variables\n",
    "Xvars = ['TRAIN_COST','TRAIN_TT','SM_COST','SM_TT','CAR_COST','CAR_TT']\n",
    "X_train = data_train[Xvars]\n",
    "X_test = data_test[Xvars]\n",
    "X = pd.concat([X_train,X_test],axis=0)\n",
    "\n",
    "transformer = normaliser_shared(X_shared = [1,0,1,0,1,0],shared_locations = [[0,2,4]])\n",
    "transformer.fit(X)\n",
    "\n",
    "X_train = transformer.transform(X_train)\n",
    "X_test = transformer.transform(X_test)\n",
    "X = transformer.transform(X)\n",
    "\n",
    "y_train = data_train['CHOICE'].to_numpy() - 1\n",
    "y_test = data_test['CHOICE'].to_numpy() - 1\n",
    "y = np.r_[y_train,y_test]"
   ]
  },
  {
   "cell_type": "code",
   "execution_count": 4,
   "metadata": {},
   "outputs": [
    {
     "name": "stdout",
     "output_type": "stream",
     "text": [
      "1/100 / Log-lik (full): -5816.36 / LL (train) = -4630.43 / LL (test) = -1185.93 / Rho-sq (test): 0.4029\n",
      "2/100 / Log-lik (full): -5815.64 / LL (train) = -4629.46 / LL (test) = -1186.17 / Rho-sq (test): 0.4028\n",
      "3/100 / Log-lik (full): -5817.93 / LL (train) = -4631.2 / LL (test) = -1186.73 / Rho-sq (test): 0.4025\n",
      "4/100 / Log-lik (full): -5812.38 / LL (train) = -4627.46 / LL (test) = -1184.92 / Rho-sq (test): 0.4035\n",
      "5/100 / Log-lik (full): -5820.73 / LL (train) = -4633.94 / LL (test) = -1186.79 / Rho-sq (test): 0.4025\n",
      "6/100 / Log-lik (full): -5814.58 / LL (train) = -4627.72 / LL (test) = -1186.86 / Rho-sq (test): 0.4025\n",
      "7/100 / Log-lik (full): -5823.99 / LL (train) = -4636.1 / LL (test) = -1187.89 / Rho-sq (test): 0.402\n",
      "8/100 / Log-lik (full): -5813.47 / LL (train) = -4627.25 / LL (test) = -1186.22 / Rho-sq (test): 0.4028\n",
      "9/100 / Log-lik (full): -5817.96 / LL (train) = -4631.89 / LL (test) = -1186.07 / Rho-sq (test): 0.4029\n",
      "10/100 / Log-lik (full): -5817.13 / LL (train) = -4630.71 / LL (test) = -1186.42 / Rho-sq (test): 0.4027\n",
      "11/100 / Log-lik (full): -5817.72 / LL (train) = -4630.94 / LL (test) = -1186.77 / Rho-sq (test): 0.4025\n",
      "12/100 / Log-lik (full): -5829.47 / LL (train) = -4641.53 / LL (test) = -1187.95 / Rho-sq (test): 0.4019\n",
      "13/100 / Log-lik (full): -5817.66 / LL (train) = -4630.85 / LL (test) = -1186.81 / Rho-sq (test): 0.4025\n",
      "14/100 / Log-lik (full): -5818.7 / LL (train) = -4632.72 / LL (test) = -1185.99 / Rho-sq (test): 0.4029\n",
      "15/100 / Log-lik (full): -5817.71 / LL (train) = -4631.11 / LL (test) = -1186.6 / Rho-sq (test): 0.4026\n",
      "16/100 / Log-lik (full): -5823.46 / LL (train) = -4636.15 / LL (test) = -1187.31 / Rho-sq (test): 0.4023\n",
      "17/100 / Log-lik (full): -5816.55 / LL (train) = -4630.31 / LL (test) = -1186.24 / Rho-sq (test): 0.4028\n",
      "18/100 / Log-lik (full): -5819.9 / LL (train) = -4633.08 / LL (test) = -1186.81 / Rho-sq (test): 0.4025\n",
      "19/100 / Log-lik (full): -5815.5 / LL (train) = -4628.94 / LL (test) = -1186.56 / Rho-sq (test): 0.4026\n",
      "20/100 / Log-lik (full): -5814.82 / LL (train) = -4628.73 / LL (test) = -1186.09 / Rho-sq (test): 0.4029\n",
      "21/100 / Log-lik (full): -5821.96 / LL (train) = -4634.92 / LL (test) = -1187.04 / Rho-sq (test): 0.4024\n",
      "22/100 / Log-lik (full): -5822.35 / LL (train) = -4634.32 / LL (test) = -1188.03 / Rho-sq (test): 0.4019\n",
      "23/100 / Log-lik (full): -5819.39 / LL (train) = -4632.95 / LL (test) = -1186.44 / Rho-sq (test): 0.4027\n",
      "24/100 / Log-lik (full): -5815.4 / LL (train) = -4629.24 / LL (test) = -1186.16 / Rho-sq (test): 0.4028\n",
      "25/100 / Log-lik (full): -5813.05 / LL (train) = -4627.41 / LL (test) = -1185.64 / Rho-sq (test): 0.4031\n",
      "26/100 / Log-lik (full): -5823.12 / LL (train) = -4635.45 / LL (test) = -1187.67 / Rho-sq (test): 0.4021\n",
      "27/100 / Log-lik (full): -5815.78 / LL (train) = -4629.73 / LL (test) = -1186.05 / Rho-sq (test): 0.4029\n",
      "28/100 / Log-lik (full): -5822.88 / LL (train) = -4635.75 / LL (test) = -1187.13 / Rho-sq (test): 0.4023\n",
      "29/100 / Log-lik (full): -5820.53 / LL (train) = -4633.81 / LL (test) = -1186.72 / Rho-sq (test): 0.4025\n",
      "30/100 / Log-lik (full): -5816.8 / LL (train) = -4631.56 / LL (test) = -1185.25 / Rho-sq (test): 0.4033\n",
      "31/100 / Log-lik (full): -5814.81 / LL (train) = -4627.76 / LL (test) = -1187.05 / Rho-sq (test): 0.4024\n",
      "32/100 / Log-lik (full): -5812.71 / LL (train) = -4626.17 / LL (test) = -1186.54 / Rho-sq (test): 0.4026\n",
      "33/100 / Log-lik (full): -5828.12 / LL (train) = -4639.93 / LL (test) = -1188.19 / Rho-sq (test): 0.4018\n",
      "34/100 / Log-lik (full): -5816.14 / LL (train) = -4629.77 / LL (test) = -1186.37 / Rho-sq (test): 0.4027\n",
      "35/100 / Log-lik (full): -5812.16 / LL (train) = -4625.57 / LL (test) = -1186.59 / Rho-sq (test): 0.4026\n",
      "36/100 / Log-lik (full): -5824.86 / LL (train) = -4637.15 / LL (test) = -1187.71 / Rho-sq (test): 0.402\n",
      "37/100 / Log-lik (full): -5815.61 / LL (train) = -4628.92 / LL (test) = -1186.69 / Rho-sq (test): 0.4026\n",
      "38/100 / Log-lik (full): -5820.69 / LL (train) = -4633.81 / LL (test) = -1186.88 / Rho-sq (test): 0.4025\n",
      "39/100 / Log-lik (full): -5813.44 / LL (train) = -4627.47 / LL (test) = -1185.97 / Rho-sq (test): 0.4029\n",
      "40/100 / Log-lik (full): -5819.95 / LL (train) = -4633.58 / LL (test) = -1186.37 / Rho-sq (test): 0.4027\n",
      "41/100 / Log-lik (full): -5812.59 / LL (train) = -4626.5 / LL (test) = -1186.09 / Rho-sq (test): 0.4029\n",
      "42/100 / Log-lik (full): -5818.79 / LL (train) = -4632.47 / LL (test) = -1186.33 / Rho-sq (test): 0.4027\n",
      "43/100 / Log-lik (full): -5815.49 / LL (train) = -4628.75 / LL (test) = -1186.73 / Rho-sq (test): 0.4025\n",
      "44/100 / Log-lik (full): -5812.88 / LL (train) = -4626.87 / LL (test) = -1186.02 / Rho-sq (test): 0.4029\n",
      "45/100 / Log-lik (full): -5822.39 / LL (train) = -4635.39 / LL (test) = -1187.0 / Rho-sq (test): 0.4024\n",
      "46/100 / Log-lik (full): -5817.45 / LL (train) = -4631.21 / LL (test) = -1186.24 / Rho-sq (test): 0.4028\n",
      "47/100 / Log-lik (full): -5816.71 / LL (train) = -4630.21 / LL (test) = -1186.5 / Rho-sq (test): 0.4027\n",
      "48/100 / Log-lik (full): -5815.25 / LL (train) = -4629.31 / LL (test) = -1185.94 / Rho-sq (test): 0.4029\n",
      "49/100 / Log-lik (full): -5815.91 / LL (train) = -4630.08 / LL (test) = -1185.83 / Rho-sq (test): 0.403\n",
      "50/100 / Log-lik (full): -5818.09 / LL (train) = -4631.73 / LL (test) = -1186.36 / Rho-sq (test): 0.4027\n",
      "51/100 / Log-lik (full): -5818.16 / LL (train) = -4632.17 / LL (test) = -1185.99 / Rho-sq (test): 0.4029\n",
      "52/100 / Log-lik (full): -5821.8 / LL (train) = -4634.52 / LL (test) = -1187.28 / Rho-sq (test): 0.4023\n",
      "53/100 / Log-lik (full): -5822.83 / LL (train) = -4634.94 / LL (test) = -1187.89 / Rho-sq (test): 0.402\n",
      "54/100 / Log-lik (full): -5816.11 / LL (train) = -4630.17 / LL (test) = -1185.93 / Rho-sq (test): 0.4029\n",
      "55/100 / Log-lik (full): -5815.75 / LL (train) = -4629.55 / LL (test) = -1186.21 / Rho-sq (test): 0.4028\n",
      "56/100 / Log-lik (full): -5820.08 / LL (train) = -4633.77 / LL (test) = -1186.31 / Rho-sq (test): 0.4028\n",
      "57/100 / Log-lik (full): -5816.24 / LL (train) = -4629.2 / LL (test) = -1187.04 / Rho-sq (test): 0.4024\n",
      "58/100 / Log-lik (full): -5814.76 / LL (train) = -4626.98 / LL (test) = -1187.79 / Rho-sq (test): 0.402\n",
      "59/100 / Log-lik (full): -5813.84 / LL (train) = -4627.9 / LL (test) = -1185.93 / Rho-sq (test): 0.4029\n",
      "60/100 / Log-lik (full): -5821.15 / LL (train) = -4634.9 / LL (test) = -1186.25 / Rho-sq (test): 0.4028\n",
      "61/100 / Log-lik (full): -5821.97 / LL (train) = -4635.35 / LL (test) = -1186.61 / Rho-sq (test): 0.4026\n",
      "62/100 / Log-lik (full): -5813.2 / LL (train) = -4628.36 / LL (test) = -1184.83 / Rho-sq (test): 0.4035\n",
      "63/100 / Log-lik (full): -5819.65 / LL (train) = -4632.77 / LL (test) = -1186.88 / Rho-sq (test): 0.4025\n",
      "64/100 / Log-lik (full): -5823.18 / LL (train) = -4635.38 / LL (test) = -1187.79 / Rho-sq (test): 0.402\n",
      "65/100 / Log-lik (full): -5816.83 / LL (train) = -4630.22 / LL (test) = -1186.61 / Rho-sq (test): 0.4026\n",
      "66/100 / Log-lik (full): -5822.78 / LL (train) = -4634.9 / LL (test) = -1187.88 / Rho-sq (test): 0.402\n",
      "67/100 / Log-lik (full): -5816.81 / LL (train) = -4630.39 / LL (test) = -1186.42 / Rho-sq (test): 0.4027\n",
      "68/100 / Log-lik (full): -5817.94 / LL (train) = -4631.93 / LL (test) = -1186.02 / Rho-sq (test): 0.4029\n",
      "69/100 / Log-lik (full): -5815.84 / LL (train) = -4629.22 / LL (test) = -1186.61 / Rho-sq (test): 0.4026\n",
      "70/100 / Log-lik (full): -5814.12 / LL (train) = -4627.72 / LL (test) = -1186.4 / Rho-sq (test): 0.4027\n",
      "71/100 / Log-lik (full): -5817.73 / LL (train) = -4631.27 / LL (test) = -1186.46 / Rho-sq (test): 0.4027\n",
      "72/100 / Log-lik (full): -5815.3 / LL (train) = -4629.32 / LL (test) = -1185.98 / Rho-sq (test): 0.4029\n",
      "73/100 / Log-lik (full): -5817.65 / LL (train) = -4631.23 / LL (test) = -1186.43 / Rho-sq (test): 0.4027\n",
      "74/100 / Log-lik (full): -5824.14 / LL (train) = -4636.03 / LL (test) = -1188.1 / Rho-sq (test): 0.4018\n",
      "75/100 / Log-lik (full): -5823.31 / LL (train) = -4636.09 / LL (test) = -1187.22 / Rho-sq (test): 0.4023\n",
      "76/100 / Log-lik (full): -5828.21 / LL (train) = -4639.72 / LL (test) = -1188.5 / Rho-sq (test): 0.4017\n",
      "77/100 / Log-lik (full): -5819.42 / LL (train) = -4633.35 / LL (test) = -1186.07 / Rho-sq (test): 0.4029\n",
      "78/100 / Log-lik (full): -5814.12 / LL (train) = -4627.86 / LL (test) = -1186.26 / Rho-sq (test): 0.4028\n",
      "79/100 / Log-lik (full): -5815.85 / LL (train) = -4629.35 / LL (test) = -1186.49 / Rho-sq (test): 0.4027\n",
      "80/100 / Log-lik (full): -5817.82 / LL (train) = -4632.08 / LL (test) = -1185.74 / Rho-sq (test): 0.403\n",
      "81/100 / Log-lik (full): -5813.04 / LL (train) = -4626.21 / LL (test) = -1186.83 / Rho-sq (test): 0.4025\n",
      "82/100 / Log-lik (full): -5814.38 / LL (train) = -4628.43 / LL (test) = -1185.94 / Rho-sq (test): 0.4029\n",
      "83/100 / Log-lik (full): -5819.34 / LL (train) = -4632.02 / LL (test) = -1187.32 / Rho-sq (test): 0.4022\n",
      "84/100 / Log-lik (full): -5815.42 / LL (train) = -4629.24 / LL (test) = -1186.17 / Rho-sq (test): 0.4028\n",
      "85/100 / Log-lik (full): -5818.73 / LL (train) = -4631.81 / LL (test) = -1186.93 / Rho-sq (test): 0.4024\n",
      "86/100 / Log-lik (full): -5832.23 / LL (train) = -4643.71 / LL (test) = -1188.52 / Rho-sq (test): 0.4016\n",
      "87/100 / Log-lik (full): -5816.21 / LL (train) = -4629.79 / LL (test) = -1186.42 / Rho-sq (test): 0.4027\n",
      "88/100 / Log-lik (full): -5816.89 / LL (train) = -4630.34 / LL (test) = -1186.56 / Rho-sq (test): 0.4026\n",
      "89/100 / Log-lik (full): -5821.64 / LL (train) = -4634.23 / LL (test) = -1187.41 / Rho-sq (test): 0.4022\n",
      "90/100 / Log-lik (full): -5824.98 / LL (train) = -4637.59 / LL (test) = -1187.39 / Rho-sq (test): 0.4022\n",
      "91/100 / Log-lik (full): -5821.55 / LL (train) = -4633.83 / LL (test) = -1187.72 / Rho-sq (test): 0.402\n",
      "92/100 / Log-lik (full): -5822.81 / LL (train) = -4635.61 / LL (test) = -1187.21 / Rho-sq (test): 0.4023\n",
      "93/100 / Log-lik (full): -5814.05 / LL (train) = -4628.85 / LL (test) = -1185.2 / Rho-sq (test): 0.4033\n",
      "94/100 / Log-lik (full): -5812.87 / LL (train) = -4626.34 / LL (test) = -1186.53 / Rho-sq (test): 0.4026\n",
      "95/100 / Log-lik (full): -5823.21 / LL (train) = -4636.5 / LL (test) = -1186.71 / Rho-sq (test): 0.4025\n",
      "96/100 / Log-lik (full): -5816.16 / LL (train) = -4629.73 / LL (test) = -1186.43 / Rho-sq (test): 0.4027\n",
      "97/100 / Log-lik (full): -5817.22 / LL (train) = -4630.09 / LL (test) = -1187.13 / Rho-sq (test): 0.4023\n",
      "98/100 / Log-lik (full): -5813.8 / LL (train) = -4626.98 / LL (test) = -1186.82 / Rho-sq (test): 0.4025\n",
      "99/100 / Log-lik (full): -5816.38 / LL (train) = -4629.97 / LL (test) = -1186.42 / Rho-sq (test): 0.4027\n",
      "100/100 / Log-lik (full): -5818.39 / LL (train) = -4632.4 / LL (test) = -1185.99 / Rho-sq (test): 0.4029\n"
     ]
    }
   ],
   "source": [
    "R = 100\n",
    "\n",
    "ll_full_list = []\n",
    "ll_train_list = []\n",
    "ll_test_list = []\n",
    "r2_test_list = []\n",
    "mg_U = []\n",
    "V = []\n",
    "p = []\n",
    "\n",
    "for r in range(R):\n",
    "    # Set model\n",
    "    model = AsuSharedNN(topology=(6,),activation='tanh',from_logits=True)\n",
    "    model.fit(X_train,y_train,[1,1,2,2,3,3],[1,0,1,0,1,0],early_stopping=True,validation_split=0.1)\n",
    "\n",
    "    # Get log-likelihood\n",
    "    ll_full = ll(y,model.predict_proba(X))\n",
    "    ll_train = ll(y_train,model.predict_proba(X_train))\n",
    "    ll_test = ll(y_test,model.predict_proba(X_test))\n",
    "    r2 = 1 - ll_test/(len(X_test)*np.log(1/J))\n",
    "\n",
    "    ll_full_list.append(ll_full)\n",
    "    ll_train_list.append(ll_train)\n",
    "    ll_test_list.append(ll_test)\n",
    "    r2_test_list.append(r2)\n",
    "\n",
    "    print(str(r+1) + '/' + str(R) + ' / Log-lik (full): ' + str(round(ll_full,2)) + ' / LL (train) = ' + str(round(ll_train,2)) + ' / LL (test) = ' + str(round(ll_test,2)) + ' / Rho-sq (test): ' + str(round(r2,4)))\n",
    "\n",
    "    mg_U.append(model.gradient(X_test,transformer))\n",
    "    V.append(model.predict_utility(X_test))\n",
    "    p.append(model.predict_proba(X_test))"
   ]
  },
  {
   "cell_type": "code",
   "execution_count": 5,
   "metadata": {},
   "outputs": [
    {
     "data": {
      "text/plain": [
       "Log-lik (full)    -5818.228796\n",
       "Log-lik (train)   -4631.586587\n",
       "Log-lik (test)    -1186.642209\n",
       "Rho-sq (test)         0.402584\n",
       "dtype: float64"
      ]
     },
     "execution_count": 5,
     "metadata": {},
     "output_type": "execute_result"
    }
   ],
   "source": [
    "# Stack metrics\n",
    "ll_full_array = np.array(ll_full_list)\n",
    "ll_train_array = np.array(ll_train_list)\n",
    "ll_test_array = np.array(ll_test_list)\n",
    "r2_test_array = np.array(r2_test_list)\n",
    "\n",
    "# Create series\n",
    "metrics = pd.DataFrame(np.c_[ll_full_array,ll_train_array,ll_test_array,r2_test_array],columns=['Log-lik (full)','Log-lik (train)','Log-lik (test)','Rho-sq (test)'])\n",
    "metrics.to_csv('results/asushared_synth_1_metrics.csv')\n",
    "metrics.mean()"
   ]
  },
  {
   "cell_type": "code",
   "execution_count": 6,
   "metadata": {},
   "outputs": [],
   "source": [
    "# Save pickle file\n",
    "with open('results/asushared_synth_1.pickle', 'wb') as handle:\n",
    "    pickle.dump([mg_U,V,p], handle, protocol=pickle.HIGHEST_PROTOCOL)"
   ]
  }
 ],
 "metadata": {
  "kernelspec": {
   "display_name": ".env",
   "language": "python",
   "name": "python3"
  },
  "language_info": {
   "codemirror_mode": {
    "name": "ipython",
    "version": 3
   },
   "file_extension": ".py",
   "mimetype": "text/x-python",
   "name": "python",
   "nbconvert_exporter": "python",
   "pygments_lexer": "ipython3",
   "version": "3.9.13"
  },
  "orig_nbformat": 4,
  "vscode": {
   "interpreter": {
    "hash": "26346328b25e27713beafabb9b1a2f02f560cfbadc66221b5369a5c026aacec8"
   }
  }
 },
 "nbformat": 4,
 "nbformat_minor": 2
}
