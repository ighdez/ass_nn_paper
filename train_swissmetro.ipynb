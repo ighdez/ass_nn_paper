{
 "cells": [
  {
   "cell_type": "code",
   "execution_count": 1,
   "metadata": {},
   "outputs": [],
   "source": [
    "# Load modules\n",
    "import os\n",
    "os.environ['TF_CPP_MIN_LOG_LEVEL'] = '3' \n",
    "\n",
    "import numpy as np\n",
    "import pandas as pd\n",
    "import pickle\n",
    "\n",
    "from train_ann_functions import AsuSharedNN, ll, normaliser_shared"
   ]
  },
  {
   "cell_type": "code",
   "execution_count": 2,
   "metadata": {},
   "outputs": [],
   "source": [
    "# Load data\n",
    "data_train = pd.read_csv('data/swissmetro_clean_train.csv')\n",
    "data_test = pd.read_csv('data/swissmetro_clean_test.csv')"
   ]
  },
  {
   "cell_type": "code",
   "execution_count": 3,
   "metadata": {},
   "outputs": [],
   "source": [
    "# Set scalars\n",
    "J = 3\n",
    "K = 2\n",
    "\n",
    "# Set variables\n",
    "Xvars = ['TRAIN_COST','TRAIN_TT','TRAIN_HE','SM_COST','SM_TT','SM_HE','CAR_COST','CAR_TT']\n",
    "X_train = data_train[Xvars]\n",
    "X_test = data_test[Xvars]\n",
    "X = pd.concat([X_train,X_test],axis=0)\n",
    "\n",
    "transformer = normaliser_shared(X_shared = [1,0,0,1,0,0,1,0],shared_locations = [[0,3,6]])\n",
    "transformer.fit(X)\n",
    "\n",
    "X_train = transformer.transform(X_train)\n",
    "X_test = transformer.transform(X_test)\n",
    "X = transformer.transform(X)\n",
    "\n",
    "y_train = data_train['CHOICE'].to_numpy() - 1\n",
    "y_test = data_test['CHOICE'].to_numpy() - 1\n",
    "y = np.r_[y_train,y_test]"
   ]
  },
  {
   "cell_type": "code",
   "execution_count": 4,
   "metadata": {},
   "outputs": [
    {
     "name": "stdout",
     "output_type": "stream",
     "text": [
      "1/100 / Log-lik (full): -6946.72 / LL (train) = -5552.56 / LL (test) = -1394.15 / Rho-sq (test): 0.2981\n",
      "2/100 / Log-lik (full): -6942.79 / LL (train) = -5549.43 / LL (test) = -1393.36 / Rho-sq (test): 0.2985\n",
      "3/100 / Log-lik (full): -6940.99 / LL (train) = -5548.24 / LL (test) = -1392.75 / Rho-sq (test): 0.2988\n",
      "4/100 / Log-lik (full): -6941.75 / LL (train) = -5549.87 / LL (test) = -1391.88 / Rho-sq (test): 0.2993\n",
      "5/100 / Log-lik (full): -6935.95 / LL (train) = -5544.12 / LL (test) = -1391.83 / Rho-sq (test): 0.2993\n",
      "6/100 / Log-lik (full): -6939.4 / LL (train) = -5545.0 / LL (test) = -1394.4 / Rho-sq (test): 0.298\n",
      "7/100 / Log-lik (full): -6937.07 / LL (train) = -5546.04 / LL (test) = -1391.03 / Rho-sq (test): 0.2997\n",
      "8/100 / Log-lik (full): -6939.29 / LL (train) = -5547.03 / LL (test) = -1392.26 / Rho-sq (test): 0.2991\n",
      "9/100 / Log-lik (full): -6946.62 / LL (train) = -5553.37 / LL (test) = -1393.25 / Rho-sq (test): 0.2986\n",
      "10/100 / Log-lik (full): -6945.05 / LL (train) = -5551.26 / LL (test) = -1393.79 / Rho-sq (test): 0.2983\n",
      "11/100 / Log-lik (full): -6941.56 / LL (train) = -5550.02 / LL (test) = -1391.54 / Rho-sq (test): 0.2994\n",
      "12/100 / Log-lik (full): -6945.27 / LL (train) = -5551.9 / LL (test) = -1393.38 / Rho-sq (test): 0.2985\n",
      "13/100 / Log-lik (full): -6932.18 / LL (train) = -5540.69 / LL (test) = -1391.49 / Rho-sq (test): 0.2995\n",
      "14/100 / Log-lik (full): -6948.27 / LL (train) = -5554.79 / LL (test) = -1393.48 / Rho-sq (test): 0.2984\n",
      "15/100 / Log-lik (full): -6950.3 / LL (train) = -5557.11 / LL (test) = -1393.18 / Rho-sq (test): 0.2986\n",
      "16/100 / Log-lik (full): -6937.22 / LL (train) = -5545.76 / LL (test) = -1391.46 / Rho-sq (test): 0.2995\n",
      "17/100 / Log-lik (full): -6943.56 / LL (train) = -5550.2 / LL (test) = -1393.36 / Rho-sq (test): 0.2985\n",
      "18/100 / Log-lik (full): -6943.34 / LL (train) = -5550.82 / LL (test) = -1392.52 / Rho-sq (test): 0.2989\n",
      "19/100 / Log-lik (full): -6954.44 / LL (train) = -5560.75 / LL (test) = -1393.68 / Rho-sq (test): 0.2983\n",
      "20/100 / Log-lik (full): -6942.1 / LL (train) = -5550.19 / LL (test) = -1391.91 / Rho-sq (test): 0.2992\n",
      "21/100 / Log-lik (full): -6942.56 / LL (train) = -5549.45 / LL (test) = -1393.11 / Rho-sq (test): 0.2986\n",
      "22/100 / Log-lik (full): -6944.99 / LL (train) = -5552.12 / LL (test) = -1392.87 / Rho-sq (test): 0.2988\n",
      "23/100 / Log-lik (full): -6939.95 / LL (train) = -5547.64 / LL (test) = -1392.31 / Rho-sq (test): 0.299\n",
      "24/100 / Log-lik (full): -6940.24 / LL (train) = -5547.79 / LL (test) = -1392.46 / Rho-sq (test): 0.299\n",
      "25/100 / Log-lik (full): -6941.99 / LL (train) = -5549.14 / LL (test) = -1392.85 / Rho-sq (test): 0.2988\n",
      "26/100 / Log-lik (full): -6935.9 / LL (train) = -5543.83 / LL (test) = -1392.07 / Rho-sq (test): 0.2992\n",
      "27/100 / Log-lik (full): -6937.37 / LL (train) = -5545.15 / LL (test) = -1392.22 / Rho-sq (test): 0.2991\n",
      "28/100 / Log-lik (full): -6934.43 / LL (train) = -5543.6 / LL (test) = -1390.83 / Rho-sq (test): 0.2998\n",
      "29/100 / Log-lik (full): -6942.63 / LL (train) = -5550.45 / LL (test) = -1392.19 / Rho-sq (test): 0.2991\n",
      "30/100 / Log-lik (full): -6937.3 / LL (train) = -5546.29 / LL (test) = -1391.01 / Rho-sq (test): 0.2997\n",
      "31/100 / Log-lik (full): -6945.55 / LL (train) = -5551.6 / LL (test) = -1393.94 / Rho-sq (test): 0.2982\n",
      "32/100 / Log-lik (full): -6935.82 / LL (train) = -5544.2 / LL (test) = -1391.62 / Rho-sq (test): 0.2994\n",
      "33/100 / Log-lik (full): -6935.46 / LL (train) = -5543.76 / LL (test) = -1391.7 / Rho-sq (test): 0.2993\n",
      "34/100 / Log-lik (full): -6946.17 / LL (train) = -5552.63 / LL (test) = -1393.54 / Rho-sq (test): 0.2984\n",
      "35/100 / Log-lik (full): -6937.08 / LL (train) = -5544.65 / LL (test) = -1392.42 / Rho-sq (test): 0.299\n",
      "36/100 / Log-lik (full): -6943.12 / LL (train) = -5551.54 / LL (test) = -1391.59 / Rho-sq (test): 0.2994\n",
      "37/100 / Log-lik (full): -6937.08 / LL (train) = -5545.49 / LL (test) = -1391.59 / Rho-sq (test): 0.2994\n",
      "38/100 / Log-lik (full): -6930.7 / LL (train) = -5541.0 / LL (test) = -1389.7 / Rho-sq (test): 0.3004\n",
      "39/100 / Log-lik (full): -6953.77 / LL (train) = -5559.7 / LL (test) = -1394.07 / Rho-sq (test): 0.2982\n",
      "40/100 / Log-lik (full): -6936.52 / LL (train) = -5544.86 / LL (test) = -1391.65 / Rho-sq (test): 0.2994\n",
      "41/100 / Log-lik (full): -6936.36 / LL (train) = -5544.88 / LL (test) = -1391.48 / Rho-sq (test): 0.2995\n",
      "42/100 / Log-lik (full): -6943.18 / LL (train) = -5550.34 / LL (test) = -1392.83 / Rho-sq (test): 0.2988\n",
      "43/100 / Log-lik (full): -6938.47 / LL (train) = -5545.19 / LL (test) = -1393.28 / Rho-sq (test): 0.2986\n",
      "44/100 / Log-lik (full): -6942.11 / LL (train) = -5549.02 / LL (test) = -1393.09 / Rho-sq (test): 0.2986\n",
      "45/100 / Log-lik (full): -6950.04 / LL (train) = -5556.97 / LL (test) = -1393.06 / Rho-sq (test): 0.2987\n",
      "46/100 / Log-lik (full): -6944.34 / LL (train) = -5552.33 / LL (test) = -1392.01 / Rho-sq (test): 0.2992\n",
      "47/100 / Log-lik (full): -6937.16 / LL (train) = -5544.91 / LL (test) = -1392.26 / Rho-sq (test): 0.2991\n",
      "48/100 / Log-lik (full): -6936.11 / LL (train) = -5545.07 / LL (test) = -1391.04 / Rho-sq (test): 0.2997\n",
      "49/100 / Log-lik (full): -6939.86 / LL (train) = -5547.73 / LL (test) = -1392.13 / Rho-sq (test): 0.2991\n",
      "50/100 / Log-lik (full): -6936.23 / LL (train) = -5545.06 / LL (test) = -1391.17 / Rho-sq (test): 0.2996\n",
      "51/100 / Log-lik (full): -6947.97 / LL (train) = -5553.58 / LL (test) = -1394.39 / Rho-sq (test): 0.298\n",
      "52/100 / Log-lik (full): -6936.34 / LL (train) = -5544.11 / LL (test) = -1392.23 / Rho-sq (test): 0.2991\n",
      "53/100 / Log-lik (full): -6941.44 / LL (train) = -5548.86 / LL (test) = -1392.58 / Rho-sq (test): 0.2989\n",
      "54/100 / Log-lik (full): -6935.49 / LL (train) = -5543.6 / LL (test) = -1391.89 / Rho-sq (test): 0.2993\n",
      "55/100 / Log-lik (full): -6952.79 / LL (train) = -5557.74 / LL (test) = -1395.06 / Rho-sq (test): 0.2977\n",
      "56/100 / Log-lik (full): -6934.56 / LL (train) = -5544.24 / LL (test) = -1390.32 / Rho-sq (test): 0.3\n",
      "57/100 / Log-lik (full): -6936.66 / LL (train) = -5544.48 / LL (test) = -1392.18 / Rho-sq (test): 0.2991\n",
      "58/100 / Log-lik (full): -6946.21 / LL (train) = -5551.97 / LL (test) = -1394.23 / Rho-sq (test): 0.2981\n",
      "59/100 / Log-lik (full): -6937.06 / LL (train) = -5544.78 / LL (test) = -1392.28 / Rho-sq (test): 0.2991\n",
      "60/100 / Log-lik (full): -6938.55 / LL (train) = -5545.97 / LL (test) = -1392.58 / Rho-sq (test): 0.2989\n",
      "61/100 / Log-lik (full): -6946.57 / LL (train) = -5553.41 / LL (test) = -1393.16 / Rho-sq (test): 0.2986\n",
      "62/100 / Log-lik (full): -6942.67 / LL (train) = -5550.64 / LL (test) = -1392.02 / Rho-sq (test): 0.2992\n",
      "63/100 / Log-lik (full): -6943.67 / LL (train) = -5550.61 / LL (test) = -1393.07 / Rho-sq (test): 0.2987\n",
      "64/100 / Log-lik (full): -6937.61 / LL (train) = -5546.39 / LL (test) = -1391.21 / Rho-sq (test): 0.2996\n",
      "65/100 / Log-lik (full): -6942.07 / LL (train) = -5550.37 / LL (test) = -1391.69 / Rho-sq (test): 0.2993\n",
      "66/100 / Log-lik (full): -6937.76 / LL (train) = -5545.29 / LL (test) = -1392.47 / Rho-sq (test): 0.299\n",
      "67/100 / Log-lik (full): -6948.72 / LL (train) = -5554.26 / LL (test) = -1394.46 / Rho-sq (test): 0.298\n",
      "68/100 / Log-lik (full): -6948.72 / LL (train) = -5554.29 / LL (test) = -1394.43 / Rho-sq (test): 0.298\n",
      "69/100 / Log-lik (full): -6934.72 / LL (train) = -5543.0 / LL (test) = -1391.72 / Rho-sq (test): 0.2993\n",
      "70/100 / Log-lik (full): -6935.41 / LL (train) = -5545.16 / LL (test) = -1390.24 / Rho-sq (test): 0.3001\n",
      "71/100 / Log-lik (full): -6934.7 / LL (train) = -5542.68 / LL (test) = -1392.01 / Rho-sq (test): 0.2992\n",
      "72/100 / Log-lik (full): -6939.91 / LL (train) = -5547.19 / LL (test) = -1392.72 / Rho-sq (test): 0.2988\n",
      "73/100 / Log-lik (full): -6940.2 / LL (train) = -5547.68 / LL (test) = -1392.51 / Rho-sq (test): 0.2989\n",
      "74/100 / Log-lik (full): -6939.26 / LL (train) = -5546.76 / LL (test) = -1392.5 / Rho-sq (test): 0.2989\n",
      "75/100 / Log-lik (full): -6952.62 / LL (train) = -5557.69 / LL (test) = -1394.93 / Rho-sq (test): 0.2977\n",
      "76/100 / Log-lik (full): -6946.75 / LL (train) = -5554.7 / LL (test) = -1392.05 / Rho-sq (test): 0.2992\n",
      "77/100 / Log-lik (full): -6945.63 / LL (train) = -5551.89 / LL (test) = -1393.74 / Rho-sq (test): 0.2983\n",
      "78/100 / Log-lik (full): -6940.4 / LL (train) = -5548.37 / LL (test) = -1392.03 / Rho-sq (test): 0.2992\n",
      "79/100 / Log-lik (full): -6934.03 / LL (train) = -5542.63 / LL (test) = -1391.4 / Rho-sq (test): 0.2995\n",
      "80/100 / Log-lik (full): -6937.7 / LL (train) = -5546.31 / LL (test) = -1391.38 / Rho-sq (test): 0.2995\n",
      "81/100 / Log-lik (full): -6942.75 / LL (train) = -5550.0 / LL (test) = -1392.74 / Rho-sq (test): 0.2988\n",
      "82/100 / Log-lik (full): -6938.53 / LL (train) = -5547.54 / LL (test) = -1390.98 / Rho-sq (test): 0.2997\n",
      "83/100 / Log-lik (full): -6940.03 / LL (train) = -5547.23 / LL (test) = -1392.8 / Rho-sq (test): 0.2988\n",
      "84/100 / Log-lik (full): -6940.54 / LL (train) = -5548.14 / LL (test) = -1392.4 / Rho-sq (test): 0.299\n",
      "85/100 / Log-lik (full): -6938.56 / LL (train) = -5546.64 / LL (test) = -1391.92 / Rho-sq (test): 0.2992\n",
      "86/100 / Log-lik (full): -6939.38 / LL (train) = -5547.95 / LL (test) = -1391.43 / Rho-sq (test): 0.2995\n",
      "87/100 / Log-lik (full): -6940.71 / LL (train) = -5548.3 / LL (test) = -1392.41 / Rho-sq (test): 0.299\n",
      "88/100 / Log-lik (full): -6936.92 / LL (train) = -5546.51 / LL (test) = -1390.42 / Rho-sq (test): 0.3\n",
      "89/100 / Log-lik (full): -6942.8 / LL (train) = -5551.04 / LL (test) = -1391.76 / Rho-sq (test): 0.2993\n",
      "90/100 / Log-lik (full): -6952.65 / LL (train) = -5556.82 / LL (test) = -1395.83 / Rho-sq (test): 0.2973\n",
      "91/100 / Log-lik (full): -6940.45 / LL (train) = -5548.01 / LL (test) = -1392.44 / Rho-sq (test): 0.299\n",
      "92/100 / Log-lik (full): -6945.05 / LL (train) = -5551.33 / LL (test) = -1393.73 / Rho-sq (test): 0.2983\n",
      "93/100 / Log-lik (full): -6942.53 / LL (train) = -5549.37 / LL (test) = -1393.16 / Rho-sq (test): 0.2986\n",
      "94/100 / Log-lik (full): -6938.82 / LL (train) = -5547.4 / LL (test) = -1391.43 / Rho-sq (test): 0.2995\n",
      "95/100 / Log-lik (full): -6946.75 / LL (train) = -5553.31 / LL (test) = -1393.44 / Rho-sq (test): 0.2985\n",
      "96/100 / Log-lik (full): -6941.54 / LL (train) = -5549.12 / LL (test) = -1392.42 / Rho-sq (test): 0.299\n",
      "97/100 / Log-lik (full): -6939.53 / LL (train) = -5547.21 / LL (test) = -1392.31 / Rho-sq (test): 0.299\n",
      "98/100 / Log-lik (full): -6943.97 / LL (train) = -5550.82 / LL (test) = -1393.15 / Rho-sq (test): 0.2986\n",
      "99/100 / Log-lik (full): -6940.65 / LL (train) = -5548.39 / LL (test) = -1392.27 / Rho-sq (test): 0.2991\n",
      "100/100 / Log-lik (full): -6947.52 / LL (train) = -5554.12 / LL (test) = -1393.39 / Rho-sq (test): 0.2985\n"
     ]
    }
   ],
   "source": [
    "R = 100\n",
    "\n",
    "ll_full_list = []\n",
    "ll_train_list = []\n",
    "ll_test_list = []\n",
    "r2_test_list = []\n",
    "mg_U = []\n",
    "V = []\n",
    "p = []\n",
    "\n",
    "for r in range(R):\n",
    "    # Set model\n",
    "    model = AsuSharedNN(topology=(5,5),activation='tanh',output_bias=True,from_logits=True)\n",
    "    model.fit(X_train,y_train,[1,1,1,2,2,2,3,3],[1,0,0,1,0,0,1,0],early_stopping=True,validation_split=0.1)\n",
    "\n",
    "    # Get log-likelihood\n",
    "    ll_full = ll(y,model.predict_proba(X))\n",
    "    ll_train = ll(y_train,model.predict_proba(X_train))\n",
    "    ll_test = ll(y_test,model.predict_proba(X_test))\n",
    "    r2 = 1 - ll_test/(len(X_test)*np.log(1/J))\n",
    "\n",
    "    ll_full_list.append(ll_full)\n",
    "    ll_train_list.append(ll_train)\n",
    "    ll_test_list.append(ll_test)\n",
    "    r2_test_list.append(r2)\n",
    "\n",
    "    print(str(r+1) + '/' + str(R) + ' / Log-lik (full): ' + str(round(ll_full,2)) + ' / LL (train) = ' + str(round(ll_train,2)) + ' / LL (test) = ' + str(round(ll_test,2)) + ' / Rho-sq (test): ' + str(round(r2,4)))\n",
    "\n",
    "    mg_U.append(model.gradient(X_test,transformer))\n",
    "    V.append(model.predict_utility(X_test))\n",
    "    p.append(model.predict_proba(X_test))"
   ]
  },
  {
   "cell_type": "code",
   "execution_count": 5,
   "metadata": {},
   "outputs": [
    {
     "data": {
      "text/plain": [
       "Log-lik (full)    -6941.322295\n",
       "Log-lik (train)   -5548.834829\n",
       "Log-lik (test)    -1392.487466\n",
       "Rho-sq (test)         0.298951\n",
       "dtype: float64"
      ]
     },
     "execution_count": 5,
     "metadata": {},
     "output_type": "execute_result"
    }
   ],
   "source": [
    "# Stack metrics\n",
    "ll_full_array = np.array(ll_full_list)\n",
    "ll_train_array = np.array(ll_train_list)\n",
    "ll_test_array = np.array(ll_test_list)\n",
    "r2_test_array = np.array(r2_test_list)\n",
    "\n",
    "# Create series\n",
    "metrics = pd.DataFrame(np.c_[ll_full_array,ll_train_array,ll_test_array,r2_test_array],columns=['Log-lik (full)','Log-lik (train)','Log-lik (test)','Rho-sq (test)'])\n",
    "metrics.to_csv('results/asushared_swissmetro_metrics.csv')\n",
    "metrics.mean()"
   ]
  },
  {
   "cell_type": "code",
   "execution_count": 6,
   "metadata": {},
   "outputs": [],
   "source": [
    "# Save pickle file\n",
    "with open('results/asushared_swissmetro.pickle', 'wb') as handle:\n",
    "    pickle.dump([mg_U,V,p], handle, protocol=pickle.HIGHEST_PROTOCOL)"
   ]
  }
 ],
 "metadata": {
  "kernelspec": {
   "display_name": ".env",
   "language": "python",
   "name": "python3"
  },
  "language_info": {
   "codemirror_mode": {
    "name": "ipython",
    "version": 3
   },
   "file_extension": ".py",
   "mimetype": "text/x-python",
   "name": "python",
   "nbconvert_exporter": "python",
   "pygments_lexer": "ipython3",
   "version": "3.9.13"
  },
  "orig_nbformat": 4,
  "vscode": {
   "interpreter": {
    "hash": "26346328b25e27713beafabb9b1a2f02f560cfbadc66221b5369a5c026aacec8"
   }
  }
 },
 "nbformat": 4,
 "nbformat_minor": 2
}
