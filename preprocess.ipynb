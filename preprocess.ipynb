{
 "cells": [
  {
   "cell_type": "code",
   "execution_count": 1,
   "metadata": {},
   "outputs": [],
   "source": [
    "# Load modules\n",
    "import numpy as np\n",
    "import pandas as pd\n",
    "from sklearn.model_selection import train_test_split"
   ]
  },
  {
   "cell_type": "code",
   "execution_count": 2,
   "metadata": {},
   "outputs": [],
   "source": [
    "# Import attributes design\n",
    "data = pd.read_csv('data/swissmetro.dat',sep='\\t')\n",
    "\n",
    "# Clean unused information\n",
    "data = data[(data['CHOICE'] != 0) & (data['TRAIN_AV']==1) & (data['SM_AV']==1) & (data['CAR_AV']==1)].reset_index(drop=True)\n",
    "\n",
    "# Create and re-scale variables\n",
    "data['SM_COST'] = data['SM_CO'].values * (data['GA'].values == 0)\n",
    "data['TRAIN_COST'] = data['TRAIN_CO'].values * (data['GA'].values == 0)\n",
    "data['TRAIN_TT'] =   data['TRAIN_TT'] / 100\n",
    "data['TRAIN_COST'] = data['TRAIN_COST'] / 100\n",
    "data['SM_TT'] =      data['SM_TT'] / 100\n",
    "data['SM_COST'] =    data['SM_COST'] / 100\n",
    "data['CAR_TT'] =     data['CAR_TT'] / 100\n",
    "data['CAR_COST'] =     data['CAR_CO'] / 100\n",
    "data['TRAIN_HE'] = data['TRAIN_HE'] / 100\n",
    "data['SM_HE'] = data['SM_HE'] / 100"
   ]
  },
  {
   "cell_type": "code",
   "execution_count": 3,
   "metadata": {},
   "outputs": [
    {
     "name": "stdout",
     "output_type": "stream",
     "text": [
      "Exported to data/swissmetro_clean\n"
     ]
    }
   ],
   "source": [
    "# Define seed\n",
    "seed = 12345\n",
    "\n",
    "# Separate in train/test\n",
    "data_train, data_test = train_test_split(data,test_size=0.2,stratify=data['CHOICE'],random_state=seed)\n",
    "\n",
    "outputfile = 'data/swissmetro_clean'\n",
    "data_train.to_csv(outputfile + '_train.csv',index=False)\n",
    "data_test.to_csv(outputfile + '_test.csv',index=False)\n",
    "print('Exported to ' + outputfile)"
   ]
  }
 ],
 "metadata": {
  "kernelspec": {
   "display_name": ".env",
   "language": "python",
   "name": "python3"
  },
  "language_info": {
   "codemirror_mode": {
    "name": "ipython",
    "version": 3
   },
   "file_extension": ".py",
   "mimetype": "text/x-python",
   "name": "python",
   "nbconvert_exporter": "python",
   "pygments_lexer": "ipython3",
   "version": "3.9.13"
  },
  "orig_nbformat": 4,
  "vscode": {
   "interpreter": {
    "hash": "26346328b25e27713beafabb9b1a2f02f560cfbadc66221b5369a5c026aacec8"
   }
  }
 },
 "nbformat": 4,
 "nbformat_minor": 2
}
