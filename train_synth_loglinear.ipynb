{
 "cells": [
  {
   "cell_type": "code",
   "execution_count": 1,
   "metadata": {},
   "outputs": [],
   "source": [
    "# Load modules\n",
    "import os\n",
    "os.environ['TF_CPP_MIN_LOG_LEVEL'] = '3' \n",
    "\n",
    "import numpy as np\n",
    "import pandas as pd\n",
    "import pickle\n",
    "\n",
    "from train_ann_functions import AsuSharedNN, ll, normaliser_shared"
   ]
  },
  {
   "cell_type": "code",
   "execution_count": 2,
   "metadata": {},
   "outputs": [],
   "source": [
    "# Load data\n",
    "data_train = pd.read_csv('data/data_rum_4_train.csv')\n",
    "data_test = pd.read_csv('data/data_rum_4_test.csv')"
   ]
  },
  {
   "cell_type": "code",
   "execution_count": 3,
   "metadata": {},
   "outputs": [],
   "source": [
    "# Set scalars\n",
    "J = 3\n",
    "K = 2\n",
    "\n",
    "# Set variables\n",
    "Xvars = ['TRAIN_COST','TRAIN_TT','SM_COST','SM_TT','CAR_COST','CAR_TT']\n",
    "X_train = data_train[Xvars]\n",
    "X_test = data_test[Xvars]\n",
    "X = pd.concat([X_train,X_test],axis=0)\n",
    "\n",
    "transformer = normaliser_shared(X_shared = [1,0,1,0,1,0],shared_locations = [[0,2,4]])\n",
    "transformer.fit(X)\n",
    "\n",
    "X_train = transformer.transform(X_train)\n",
    "X_test = transformer.transform(X_test)\n",
    "X = transformer.transform(X)\n",
    "\n",
    "y_train = data_train['CHOICE'].to_numpy() - 1\n",
    "y_test = data_test['CHOICE'].to_numpy() - 1\n",
    "y = np.r_[y_train,y_test]"
   ]
  },
  {
   "cell_type": "code",
   "execution_count": 4,
   "metadata": {},
   "outputs": [
    {
     "name": "stdout",
     "output_type": "stream",
     "text": [
      "1/100 / Log-lik (full): -4459.28 / LL (train) = -3536.79 / LL (test) = -922.49 / Rho-sq (test): 0.5356\n",
      "2/100 / Log-lik (full): -4458.03 / LL (train) = -3535.86 / LL (test) = -922.17 / Rho-sq (test): 0.5357\n",
      "3/100 / Log-lik (full): -4459.82 / LL (train) = -3537.43 / LL (test) = -922.39 / Rho-sq (test): 0.5356\n",
      "4/100 / Log-lik (full): -4459.38 / LL (train) = -3537.02 / LL (test) = -922.35 / Rho-sq (test): 0.5356\n",
      "5/100 / Log-lik (full): -4457.42 / LL (train) = -3535.45 / LL (test) = -921.97 / Rho-sq (test): 0.5358\n",
      "6/100 / Log-lik (full): -4464.41 / LL (train) = -3541.19 / LL (test) = -923.22 / Rho-sq (test): 0.5352\n",
      "7/100 / Log-lik (full): -4466.65 / LL (train) = -3543.72 / LL (test) = -922.94 / Rho-sq (test): 0.5353\n",
      "8/100 / Log-lik (full): -4463.22 / LL (train) = -3540.83 / LL (test) = -922.39 / Rho-sq (test): 0.5356\n",
      "9/100 / Log-lik (full): -4456.25 / LL (train) = -3534.3 / LL (test) = -921.95 / Rho-sq (test): 0.5358\n",
      "10/100 / Log-lik (full): -4466.06 / LL (train) = -3542.96 / LL (test) = -923.09 / Rho-sq (test): 0.5353\n",
      "11/100 / Log-lik (full): -4454.82 / LL (train) = -3533.16 / LL (test) = -921.67 / Rho-sq (test): 0.536\n",
      "12/100 / Log-lik (full): -4459.42 / LL (train) = -3537.17 / LL (test) = -922.25 / Rho-sq (test): 0.5357\n",
      "13/100 / Log-lik (full): -4453.02 / LL (train) = -3531.52 / LL (test) = -921.5 / Rho-sq (test): 0.5361\n",
      "14/100 / Log-lik (full): -4459.72 / LL (train) = -3537.36 / LL (test) = -922.36 / Rho-sq (test): 0.5356\n",
      "15/100 / Log-lik (full): -4463.37 / LL (train) = -3540.82 / LL (test) = -922.55 / Rho-sq (test): 0.5355\n",
      "16/100 / Log-lik (full): -4455.67 / LL (train) = -3534.02 / LL (test) = -921.65 / Rho-sq (test): 0.536\n",
      "17/100 / Log-lik (full): -4494.03 / LL (train) = -3566.58 / LL (test) = -927.46 / Rho-sq (test): 0.5331\n",
      "18/100 / Log-lik (full): -4458.07 / LL (train) = -3535.98 / LL (test) = -922.08 / Rho-sq (test): 0.5358\n",
      "19/100 / Log-lik (full): -4460.35 / LL (train) = -3537.99 / LL (test) = -922.36 / Rho-sq (test): 0.5356\n",
      "20/100 / Log-lik (full): -4454.71 / LL (train) = -3533.12 / LL (test) = -921.58 / Rho-sq (test): 0.536\n",
      "21/100 / Log-lik (full): -4464.91 / LL (train) = -3542.13 / LL (test) = -922.78 / Rho-sq (test): 0.5354\n",
      "22/100 / Log-lik (full): -4468.8 / LL (train) = -3545.34 / LL (test) = -923.46 / Rho-sq (test): 0.5351\n",
      "23/100 / Log-lik (full): -4458.13 / LL (train) = -3536.16 / LL (test) = -921.97 / Rho-sq (test): 0.5358\n",
      "24/100 / Log-lik (full): -4454.05 / LL (train) = -3532.37 / LL (test) = -921.68 / Rho-sq (test): 0.536\n",
      "25/100 / Log-lik (full): -4460.53 / LL (train) = -3538.38 / LL (test) = -922.15 / Rho-sq (test): 0.5357\n",
      "26/100 / Log-lik (full): -4461.5 / LL (train) = -3538.77 / LL (test) = -922.73 / Rho-sq (test): 0.5355\n",
      "27/100 / Log-lik (full): -4458.16 / LL (train) = -3536.02 / LL (test) = -922.14 / Rho-sq (test): 0.5357\n",
      "28/100 / Log-lik (full): -4466.09 / LL (train) = -3543.0 / LL (test) = -923.08 / Rho-sq (test): 0.5353\n",
      "29/100 / Log-lik (full): -4458.72 / LL (train) = -3536.86 / LL (test) = -921.87 / Rho-sq (test): 0.5359\n",
      "30/100 / Log-lik (full): -4458.27 / LL (train) = -3536.3 / LL (test) = -921.97 / Rho-sq (test): 0.5358\n",
      "31/100 / Log-lik (full): -4469.11 / LL (train) = -3545.75 / LL (test) = -923.36 / Rho-sq (test): 0.5351\n",
      "32/100 / Log-lik (full): -4467.1 / LL (train) = -3544.11 / LL (test) = -923.0 / Rho-sq (test): 0.5353\n",
      "33/100 / Log-lik (full): -4481.47 / LL (train) = -3556.22 / LL (test) = -925.24 / Rho-sq (test): 0.5342\n",
      "34/100 / Log-lik (full): -4457.16 / LL (train) = -3534.94 / LL (test) = -922.22 / Rho-sq (test): 0.5357\n",
      "35/100 / Log-lik (full): -4467.72 / LL (train) = -3544.44 / LL (test) = -923.28 / Rho-sq (test): 0.5352\n",
      "36/100 / Log-lik (full): -4459.88 / LL (train) = -3537.76 / LL (test) = -922.13 / Rho-sq (test): 0.5358\n",
      "37/100 / Log-lik (full): -4469.92 / LL (train) = -3546.42 / LL (test) = -923.5 / Rho-sq (test): 0.5351\n",
      "38/100 / Log-lik (full): -4466.38 / LL (train) = -3543.13 / LL (test) = -923.26 / Rho-sq (test): 0.5352\n",
      "39/100 / Log-lik (full): -4463.68 / LL (train) = -3540.9 / LL (test) = -922.79 / Rho-sq (test): 0.5354\n",
      "40/100 / Log-lik (full): -4456.53 / LL (train) = -3534.87 / LL (test) = -921.65 / Rho-sq (test): 0.536\n",
      "41/100 / Log-lik (full): -4462.4 / LL (train) = -3539.66 / LL (test) = -922.74 / Rho-sq (test): 0.5354\n",
      "42/100 / Log-lik (full): -4458.5 / LL (train) = -3536.43 / LL (test) = -922.07 / Rho-sq (test): 0.5358\n",
      "43/100 / Log-lik (full): -4479.78 / LL (train) = -3554.92 / LL (test) = -924.86 / Rho-sq (test): 0.5344\n",
      "44/100 / Log-lik (full): -4456.57 / LL (train) = -3534.69 / LL (test) = -921.88 / Rho-sq (test): 0.5359\n",
      "45/100 / Log-lik (full): -4464.21 / LL (train) = -3541.51 / LL (test) = -922.7 / Rho-sq (test): 0.5355\n",
      "46/100 / Log-lik (full): -4454.06 / LL (train) = -3532.53 / LL (test) = -921.52 / Rho-sq (test): 0.5361\n",
      "47/100 / Log-lik (full): -4462.47 / LL (train) = -3540.0 / LL (test) = -922.47 / Rho-sq (test): 0.5356\n",
      "48/100 / Log-lik (full): -4455.33 / LL (train) = -3533.87 / LL (test) = -921.46 / Rho-sq (test): 0.5361\n",
      "49/100 / Log-lik (full): -4459.81 / LL (train) = -3537.57 / LL (test) = -922.24 / Rho-sq (test): 0.5357\n",
      "50/100 / Log-lik (full): -4479.75 / LL (train) = -3554.68 / LL (test) = -925.07 / Rho-sq (test): 0.5343\n",
      "51/100 / Log-lik (full): -4458.0 / LL (train) = -3536.09 / LL (test) = -921.9 / Rho-sq (test): 0.5359\n",
      "52/100 / Log-lik (full): -4461.63 / LL (train) = -3538.98 / LL (test) = -922.64 / Rho-sq (test): 0.5355\n",
      "53/100 / Log-lik (full): -4462.05 / LL (train) = -3539.54 / LL (test) = -922.51 / Rho-sq (test): 0.5356\n",
      "54/100 / Log-lik (full): -4456.09 / LL (train) = -3534.28 / LL (test) = -921.81 / Rho-sq (test): 0.5359\n",
      "55/100 / Log-lik (full): -4458.84 / LL (train) = -3536.73 / LL (test) = -922.11 / Rho-sq (test): 0.5358\n",
      "56/100 / Log-lik (full): -4459.08 / LL (train) = -3536.74 / LL (test) = -922.34 / Rho-sq (test): 0.5356\n",
      "57/100 / Log-lik (full): -4461.45 / LL (train) = -3538.89 / LL (test) = -922.55 / Rho-sq (test): 0.5355\n",
      "58/100 / Log-lik (full): -4459.04 / LL (train) = -3536.52 / LL (test) = -922.52 / Rho-sq (test): 0.5356\n",
      "59/100 / Log-lik (full): -4460.25 / LL (train) = -3537.94 / LL (test) = -922.31 / Rho-sq (test): 0.5357\n",
      "60/100 / Log-lik (full): -4481.18 / LL (train) = -3555.78 / LL (test) = -925.4 / Rho-sq (test): 0.5341\n",
      "61/100 / Log-lik (full): -4464.31 / LL (train) = -3541.72 / LL (test) = -922.59 / Rho-sq (test): 0.5355\n",
      "62/100 / Log-lik (full): -4458.93 / LL (train) = -3536.85 / LL (test) = -922.08 / Rho-sq (test): 0.5358\n",
      "63/100 / Log-lik (full): -4460.09 / LL (train) = -3537.48 / LL (test) = -922.6 / Rho-sq (test): 0.5355\n",
      "64/100 / Log-lik (full): -4466.73 / LL (train) = -3543.95 / LL (test) = -922.79 / Rho-sq (test): 0.5354\n",
      "65/100 / Log-lik (full): -4460.04 / LL (train) = -3537.65 / LL (test) = -922.38 / Rho-sq (test): 0.5356\n",
      "66/100 / Log-lik (full): -4485.36 / LL (train) = -3559.72 / LL (test) = -925.64 / Rho-sq (test): 0.534\n",
      "67/100 / Log-lik (full): -4474.34 / LL (train) = -3550.32 / LL (test) = -924.02 / Rho-sq (test): 0.5348\n",
      "68/100 / Log-lik (full): -4454.31 / LL (train) = -3532.46 / LL (test) = -921.85 / Rho-sq (test): 0.5359\n",
      "69/100 / Log-lik (full): -4465.11 / LL (train) = -3541.95 / LL (test) = -923.16 / Rho-sq (test): 0.5352\n",
      "70/100 / Log-lik (full): -4475.74 / LL (train) = -3551.19 / LL (test) = -924.55 / Rho-sq (test): 0.5345\n",
      "71/100 / Log-lik (full): -4457.83 / LL (train) = -3535.96 / LL (test) = -921.86 / Rho-sq (test): 0.5359\n",
      "72/100 / Log-lik (full): -4461.88 / LL (train) = -3539.37 / LL (test) = -922.5 / Rho-sq (test): 0.5356\n",
      "73/100 / Log-lik (full): -4458.11 / LL (train) = -3535.99 / LL (test) = -922.12 / Rho-sq (test): 0.5358\n",
      "74/100 / Log-lik (full): -4468.45 / LL (train) = -3545.32 / LL (test) = -923.13 / Rho-sq (test): 0.5353\n",
      "75/100 / Log-lik (full): -4466.29 / LL (train) = -3543.31 / LL (test) = -922.98 / Rho-sq (test): 0.5353\n",
      "76/100 / Log-lik (full): -4462.23 / LL (train) = -3539.65 / LL (test) = -922.58 / Rho-sq (test): 0.5355\n",
      "77/100 / Log-lik (full): -4462.51 / LL (train) = -3539.77 / LL (test) = -922.74 / Rho-sq (test): 0.5354\n",
      "78/100 / Log-lik (full): -4463.22 / LL (train) = -3540.41 / LL (test) = -922.81 / Rho-sq (test): 0.5354\n",
      "79/100 / Log-lik (full): -4465.64 / LL (train) = -3542.7 / LL (test) = -922.94 / Rho-sq (test): 0.5353\n",
      "80/100 / Log-lik (full): -4470.67 / LL (train) = -3546.94 / LL (test) = -923.73 / Rho-sq (test): 0.5349\n",
      "81/100 / Log-lik (full): -4462.82 / LL (train) = -3539.86 / LL (test) = -922.96 / Rho-sq (test): 0.5353\n",
      "82/100 / Log-lik (full): -4470.33 / LL (train) = -3546.69 / LL (test) = -923.64 / Rho-sq (test): 0.535\n",
      "83/100 / Log-lik (full): -4460.48 / LL (train) = -3538.19 / LL (test) = -922.28 / Rho-sq (test): 0.5357\n",
      "84/100 / Log-lik (full): -4456.08 / LL (train) = -3534.26 / LL (test) = -921.82 / Rho-sq (test): 0.5359\n",
      "85/100 / Log-lik (full): -4460.76 / LL (train) = -3538.03 / LL (test) = -922.74 / Rho-sq (test): 0.5354\n",
      "86/100 / Log-lik (full): -4463.75 / LL (train) = -3540.97 / LL (test) = -922.78 / Rho-sq (test): 0.5354\n",
      "87/100 / Log-lik (full): -4454.79 / LL (train) = -3532.82 / LL (test) = -921.97 / Rho-sq (test): 0.5358\n",
      "88/100 / Log-lik (full): -4454.75 / LL (train) = -3533.01 / LL (test) = -921.74 / Rho-sq (test): 0.536\n",
      "89/100 / Log-lik (full): -4464.68 / LL (train) = -3541.78 / LL (test) = -922.9 / Rho-sq (test): 0.5354\n",
      "90/100 / Log-lik (full): -4466.97 / LL (train) = -3543.71 / LL (test) = -923.26 / Rho-sq (test): 0.5352\n",
      "91/100 / Log-lik (full): -4463.37 / LL (train) = -3540.69 / LL (test) = -922.68 / Rho-sq (test): 0.5355\n",
      "92/100 / Log-lik (full): -4453.57 / LL (train) = -3531.97 / LL (test) = -921.6 / Rho-sq (test): 0.536\n",
      "93/100 / Log-lik (full): -4459.36 / LL (train) = -3537.3 / LL (test) = -922.05 / Rho-sq (test): 0.5358\n",
      "94/100 / Log-lik (full): -4459.16 / LL (train) = -3536.86 / LL (test) = -922.3 / Rho-sq (test): 0.5357\n",
      "95/100 / Log-lik (full): -4461.01 / LL (train) = -3538.43 / LL (test) = -922.58 / Rho-sq (test): 0.5355\n",
      "96/100 / Log-lik (full): -4452.83 / LL (train) = -3531.43 / LL (test) = -921.41 / Rho-sq (test): 0.5361\n",
      "97/100 / Log-lik (full): -4465.09 / LL (train) = -3542.18 / LL (test) = -922.91 / Rho-sq (test): 0.5354\n",
      "98/100 / Log-lik (full): -4468.52 / LL (train) = -3545.04 / LL (test) = -923.49 / Rho-sq (test): 0.5351\n",
      "99/100 / Log-lik (full): -4458.03 / LL (train) = -3535.86 / LL (test) = -922.17 / Rho-sq (test): 0.5357\n",
      "100/100 / Log-lik (full): -4458.07 / LL (train) = -3536.1 / LL (test) = -921.98 / Rho-sq (test): 0.5358\n"
     ]
    }
   ],
   "source": [
    "R = 100\n",
    "\n",
    "ll_full_list = []\n",
    "ll_train_list = []\n",
    "ll_test_list = []\n",
    "r2_test_list = []\n",
    "mg_U = []\n",
    "V = []\n",
    "p = []\n",
    "\n",
    "for r in range(R):\n",
    "    # Set model\n",
    "    model = AsuSharedNN(topology=(5,5),activation='tanh',from_logits=True)\n",
    "    model.fit(X_train,y_train,[1,1,2,2,3,3],[1,0,1,0,1,0],early_stopping=True,validation_split=0.1)\n",
    "\n",
    "    # Get log-likelihood\n",
    "    ll_full = ll(y,model.predict_proba(X))\n",
    "    ll_train = ll(y_train,model.predict_proba(X_train))\n",
    "    ll_test = ll(y_test,model.predict_proba(X_test))\n",
    "    r2 = 1 - ll_test/(len(X_test)*np.log(1/J))\n",
    "\n",
    "    ll_full_list.append(ll_full)\n",
    "    ll_train_list.append(ll_train)\n",
    "    ll_test_list.append(ll_test)\n",
    "    r2_test_list.append(r2)\n",
    "\n",
    "    print(str(r+1) + '/' + str(R) + ' / Log-lik (full): ' + str(round(ll_full,2)) + ' / LL (train) = ' + str(round(ll_train,2)) + ' / LL (test) = ' + str(round(ll_test,2)) + ' / Rho-sq (test): ' + str(round(r2,4)))\n",
    "\n",
    "    mg_U.append(model.gradient(X_test,transformer))\n",
    "    V.append(model.predict_utility(X_test))\n",
    "    p.append(model.predict_proba(X_test))"
   ]
  },
  {
   "cell_type": "code",
   "execution_count": 5,
   "metadata": {},
   "outputs": [
    {
     "data": {
      "text/plain": [
       "Log-lik (full)    -4462.585260\n",
       "Log-lik (train)   -3539.923887\n",
       "Log-lik (test)     -922.661374\n",
       "Rho-sq (test)         0.535485\n",
       "dtype: float64"
      ]
     },
     "execution_count": 5,
     "metadata": {},
     "output_type": "execute_result"
    }
   ],
   "source": [
    "# Stack metrics\n",
    "ll_full_array = np.array(ll_full_list)\n",
    "ll_train_array = np.array(ll_train_list)\n",
    "ll_test_array = np.array(ll_test_list)\n",
    "r2_test_array = np.array(r2_test_list)\n",
    "\n",
    "# Create series\n",
    "metrics = pd.DataFrame(np.c_[ll_full_array,ll_train_array,ll_test_array,r2_test_array],columns=['Log-lik (full)','Log-lik (train)','Log-lik (test)','Rho-sq (test)'])\n",
    "metrics.to_csv('results/asushared_synth_4_metrics.csv')\n",
    "metrics.mean()"
   ]
  },
  {
   "cell_type": "code",
   "execution_count": 6,
   "metadata": {},
   "outputs": [],
   "source": [
    "# Save pickle file\n",
    "with open('results/asushared_synth_4.pickle', 'wb') as handle:\n",
    "    pickle.dump([mg_U,V,p], handle, protocol=pickle.HIGHEST_PROTOCOL)"
   ]
  }
 ],
 "metadata": {
  "kernelspec": {
   "display_name": ".env",
   "language": "python",
   "name": "python3"
  },
  "language_info": {
   "codemirror_mode": {
    "name": "ipython",
    "version": 3
   },
   "file_extension": ".py",
   "mimetype": "text/x-python",
   "name": "python",
   "nbconvert_exporter": "python",
   "pygments_lexer": "ipython3",
   "version": "3.9.13"
  },
  "orig_nbformat": 4,
  "vscode": {
   "interpreter": {
    "hash": "26346328b25e27713beafabb9b1a2f02f560cfbadc66221b5369a5c026aacec8"
   }
  }
 },
 "nbformat": 4,
 "nbformat_minor": 2
}
