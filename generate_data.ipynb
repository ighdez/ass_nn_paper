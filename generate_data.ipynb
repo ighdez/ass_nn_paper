{
 "cells": [
  {
   "cell_type": "code",
   "execution_count": 9,
   "metadata": {},
   "outputs": [],
   "source": [
    "# Load modules\n",
    "import numpy as np\n",
    "import pandas as pd\n",
    "from gen_data_functions import gen_rum\n",
    "from sklearn.model_selection import train_test_split\n",
    "from sklearn.metrics import log_loss"
   ]
  },
  {
   "cell_type": "code",
   "execution_count": 10,
   "metadata": {},
   "outputs": [],
   "source": [
    "# Import attributes design\n",
    "data = pd.read_csv('data/swissmetro.dat',sep='\\t')\n",
    "\n",
    "# Clean unused information\n",
    "data = data[(data['CHOICE'] != 0) & (data['TRAIN_AV']==1) & (data['SM_AV']==1) & (data['CAR_AV']==1)].reset_index(drop=True)\n",
    "\n",
    "# Create and re-scale variables\n",
    "data['SM_COST'] = data['SM_CO'].values * (data['GA'].values == 0)\n",
    "data['TRAIN_COST'] = data['TRAIN_CO'].values * (data['GA'].values == 0)\n",
    "data['TRAIN_TT'] =   data['TRAIN_TT'] / 100\n",
    "data['TRAIN_COST'] = data['TRAIN_COST'] / 100\n",
    "data['SM_TT'] =      data['SM_TT'] / 100\n",
    "data['SM_COST'] =    data['SM_COST'] / 100\n",
    "data['CAR_TT'] =     data['CAR_TT'] / 100\n",
    "data['CAR_COST'] =     data['CAR_CO'] / 100"
   ]
  },
  {
   "cell_type": "code",
   "execution_count": 11,
   "metadata": {},
   "outputs": [],
   "source": [
    "# Define scalars\n",
    "N = len(data)\n",
    "J = 3\n",
    "K = 2\n",
    "\n",
    "# Define attributes\n",
    "Xvars = ['TRAIN_COST','TRAIN_TT','SM_COST','SM_TT','CAR_COST','CAR_TT']\n",
    "X = data[Xvars].to_numpy()\n",
    "\n",
    "# Define random generator\n",
    "seed = 12345\n",
    "rng = np.random.default_rng(seed)"
   ]
  },
  {
   "cell_type": "code",
   "execution_count": 12,
   "metadata": {},
   "outputs": [
    {
     "name": "stdout",
     "output_type": "stream",
     "text": [
      "RUM process 1:\n",
      "Log-lik (full) = -5807.5657 / Log-lik (test) = -1186.2038 / Log-lik (train) = -4621.3619 / Rho-sq (test): 0.4028\n",
      "Train data exported to data/data_rum_1_train.csv\n",
      "Test data exported to data/data_rum_1_test.csv\n",
      "Metrics exported to data/data_rum_1_metrics.csv\n"
     ]
    }
   ],
   "source": [
    "# Define parameters\n",
    "beta = [-2,-3]\n",
    "\n",
    "# Define utility functions\n",
    "V1 = X[:,:2] @ beta\n",
    "V2 = X[:,2:4] @ beta\n",
    "V3 = X[:,4:] @ beta\n",
    "\n",
    "V = np.c_[V1,V2,V3]\n",
    "\n",
    "# Generate RUM choices\n",
    "Y, V, p = gen_rum(V,rng)\n",
    "\n",
    "# Export to a CSV file\n",
    "to_export = pd.DataFrame(\n",
    "    np.c_[X,Y,V,p],\n",
    "    columns= Xvars + ['CHOICE'] + ['v_' + str(j+1) for j in range(J)] + ['p_' + str(j+1) for j in range(J)])\n",
    "\n",
    "# Separate in train/test\n",
    "data_train, data_test = train_test_split(to_export,test_size=0.2,stratify=to_export['CHOICE'],random_state=seed)\n",
    "\n",
    "# Compute metrics\n",
    "ll_full = -log_loss(to_export['CHOICE'],to_export[['p_' + str(j+1) for j in range(J)]],normalize=False)\n",
    "ll_train = -log_loss(data_train['CHOICE'],data_train[['p_' + str(j+1) for j in range(J)]],normalize=False)\n",
    "ll_test = -log_loss(data_test['CHOICE'],data_test[['p_' + str(j+1) for j in range(J)]],normalize=False)\n",
    "r2_test = 1 - ll_test/(len(data_test)*np.log(1/(J)))\n",
    "\n",
    "metrics = pd.Series(np.r_[ll_full,ll_train,ll_test,r2_test],index=['Log-lik (full)','Log-lik (train)','Log-lik (test)','Rho-sq (test)'],name='Values')\n",
    "\n",
    "# Print the log-likelihood\n",
    "print('RUM process 1:')\n",
    "print('Log-lik (full) = ' + str(round(ll_full,4)) + ' / Log-lik (test) = ' + str(round(ll_test,4)) + ' / Log-lik (train) = ' + str(round(ll_train,4)) + ' / Rho-sq (test): ' + str(round(r2_test,4)))\n",
    "\n",
    "outputfile = 'data/data_rum_1'\n",
    "data_train.to_csv(outputfile + '_train.csv',index=False)\n",
    "data_test.to_csv(outputfile + '_test.csv',index=False)\n",
    "metrics.to_csv(outputfile + '_metrics.csv',index=True)\n",
    "\n",
    "print('Train data exported to ' + outputfile + '_train.csv')\n",
    "print('Test data exported to ' + outputfile + '_test.csv')\n",
    "print('Metrics exported to ' + outputfile + '_metrics.csv')"
   ]
  },
  {
   "cell_type": "code",
   "execution_count": 15,
   "metadata": {},
   "outputs": [
    {
     "name": "stdout",
     "output_type": "stream",
     "text": [
      "RUM process 4:\n",
      "Log-lik (full) = -4425.5792 / Log-lik (test) = -911.3263 / Log-lik (train) = -3514.2528 / Rho-sq (test): 0.5412\n",
      "Train data exported to data/data_rum_4_train.csv\n",
      "Test data exported to data/data_rum_4_test.csv\n",
      "Metrics exported to data/data_rum_4_metrics.csv\n"
     ]
    }
   ],
   "source": [
    "# Define parameters\n",
    "delta = 0.\n",
    "beta = [-3.,-5.]\n",
    "\n",
    "# Define utility functions\n",
    "V1 = np.log(X[:,:2]+0.1) @ beta\n",
    "V2 = np.log(X[:,2:4]+0.1) @ beta\n",
    "V3 = np.log(X[:,4:]+0.1) @ beta\n",
    "\n",
    "\n",
    "# Define utility functions\n",
    "V = np.c_[V1,V2,V3]\n",
    "\n",
    "# Generate RUM choices\n",
    "Y, V, p = gen_rum(V,rng)\n",
    "\n",
    "# Export to a CSV file\n",
    "to_export = pd.DataFrame(\n",
    "    np.c_[X,Y,V,p],\n",
    "    columns= Xvars + ['CHOICE'] + ['v_' + str(j+1) for j in range(J)] + ['p_' + str(j+1) for j in range(J)])\n",
    "\n",
    "# Separate in train/test\n",
    "data_train, data_test = train_test_split(to_export,test_size=0.2,stratify=to_export['CHOICE'],random_state=seed)\n",
    "\n",
    "# Compute metrics\n",
    "ll_full = -log_loss(to_export['CHOICE'],to_export[['p_' + str(j+1) for j in range(J)]],normalize=False)\n",
    "ll_train = -log_loss(data_train['CHOICE'],data_train[['p_' + str(j+1) for j in range(J)]],normalize=False)\n",
    "ll_test = -log_loss(data_test['CHOICE'],data_test[['p_' + str(j+1) for j in range(J)]],normalize=False)\n",
    "r2_test = 1 - ll_test/(len(data_test)*np.log(1/(J)))\n",
    "\n",
    "metrics = pd.Series(np.r_[ll_full,ll_train,ll_test,r2_test],index=['Log-lik (full)','Log-lik (train)','Log-lik (test)','Rho-sq (test)'],name='Values')\n",
    "\n",
    "# Print the log-likelihood\n",
    "print('RUM process 4:')\n",
    "print('Log-lik (full) = ' + str(round(ll_full,4)) + ' / Log-lik (test) = ' + str(round(ll_test,4)) + ' / Log-lik (train) = ' + str(round(ll_train,4)) + ' / Rho-sq (test): ' + str(round(r2_test,4)))\n",
    "\n",
    "outputfile = 'data/data_rum_4'\n",
    "data_train.to_csv(outputfile + '_train.csv',index=False)\n",
    "data_test.to_csv(outputfile + '_test.csv',index=False)\n",
    "metrics.to_csv(outputfile + '_metrics.csv',index=True)\n",
    "\n",
    "print('Train data exported to ' + outputfile + '_train.csv')\n",
    "print('Test data exported to ' + outputfile + '_test.csv')\n",
    "print('Metrics exported to ' + outputfile + '_metrics.csv')"
   ]
  }
 ],
 "metadata": {
  "kernelspec": {
   "display_name": ".env",
   "language": "python",
   "name": "python3"
  },
  "language_info": {
   "codemirror_mode": {
    "name": "ipython",
    "version": 3
   },
   "file_extension": ".py",
   "mimetype": "text/x-python",
   "name": "python",
   "nbconvert_exporter": "python",
   "pygments_lexer": "ipython3",
   "version": "3.9.13"
  },
  "orig_nbformat": 4,
  "vscode": {
   "interpreter": {
    "hash": "26346328b25e27713beafabb9b1a2f02f560cfbadc66221b5369a5c026aacec8"
   }
  }
 },
 "nbformat": 4,
 "nbformat_minor": 2
}
